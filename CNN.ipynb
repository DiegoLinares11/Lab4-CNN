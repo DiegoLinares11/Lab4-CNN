{
 "cells": [
  {
   "cell_type": "markdown",
   "id": "7e669404",
   "metadata": {},
   "source": [
    "#### Lab4"
   ]
  },
  {
   "cell_type": "markdown",
   "id": "157c1b9b",
   "metadata": {},
   "source": [
    "Esta vez si pondre un seed para reproducibidad, error del lab anterior no usar esto jeje"
   ]
  },
  {
   "cell_type": "code",
   "execution_count": 6,
   "id": "30d97073",
   "metadata": {},
   "outputs": [],
   "source": [
    "import torch, torch.nn as nn, torch.optim as optim\n",
    "from torch.utils.data import DataLoader\n",
    "from torchvision import datasets, transforms\n",
    "import numpy as np\n",
    "import random\n",
    "\n",
    "# semillas\n",
    "SEED = 42\n",
    "random.seed(SEED); np.random.seed(SEED); torch.manual_seed(SEED)\n",
    "torch.backends.cudnn.benchmark = True\n",
    "\n",
    "device = torch.device('cuda' if torch.cuda.is_available() else 'cpu')\n",
    "is_cuda = torch.cuda.is_available()\n",
    "\n",
    "transform = transforms.Compose([\n",
    "    transforms.ToTensor(),\n",
    "    transforms.Normalize((0.1307,), (0.3081,))\n",
    "])\n",
    "\n",
    "train_ds = datasets.MNIST(root='./data', train=True,  download=True, transform=transform)\n",
    "test_ds  = datasets.MNIST(root='./data', train=False, download=True, transform=transform)\n",
    "\n",
    "# evita el warning de pin_memory si no hay GPU\n",
    "train_loader = DataLoader(train_ds, batch_size=128, shuffle=True, num_workers=2, pin_memory=is_cuda)\n",
    "test_loader  = DataLoader(test_ds,  batch_size=256, shuffle=False, num_workers=2, pin_memory=is_cuda)\n"
   ]
  },
  {
   "cell_type": "markdown",
   "id": "8b11450e",
   "metadata": {},
   "source": [
    "EL modelo CNN"
   ]
  },
  {
   "cell_type": "code",
   "execution_count": 7,
   "id": "277c2ee8",
   "metadata": {},
   "outputs": [],
   "source": [
    "# 2.2 Modelo base: 3 conv + 2 maxpool + FC\n",
    "class MNIST_CNN(nn.Module):\n",
    "    def __init__(self, fc_hidden=256, c1=32, c2=64, c3=128, dropout=0.25):\n",
    "        super().__init__()\n",
    "        self.features = nn.Sequential(\n",
    "            nn.Conv2d(1,  c1, kernel_size=3, padding=1), nn.ReLU(inplace=True),\n",
    "            nn.Conv2d(c1, c2, kernel_size=3, padding=1), nn.ReLU(inplace=True),\n",
    "            nn.MaxPool2d(2),  # 28->14\n",
    "            nn.Dropout(dropout),\n",
    "\n",
    "            nn.Conv2d(c2, c3, kernel_size=3, padding=1), nn.ReLU(inplace=True),\n",
    "            nn.MaxPool2d(2),  # 14->7\n",
    "        )\n",
    "        self.classifier = nn.Sequential(\n",
    "            nn.Flatten(),\n",
    "            nn.Linear(c3*7*7, fc_hidden), nn.ReLU(inplace=True),\n",
    "            nn.Dropout(dropout),\n",
    "            nn.Linear(fc_hidden, 10)\n",
    "        )\n",
    "    def forward(self, x):\n",
    "        return self.classifier(self.features(x))\n"
   ]
  },
  {
   "cell_type": "markdown",
   "id": "152c21e6",
   "metadata": {},
   "source": [
    "Entrenamiento + evaluación + checkpoint del mejor"
   ]
  },
  {
   "cell_type": "code",
   "execution_count": 8,
   "id": "923a3613",
   "metadata": {},
   "outputs": [],
   "source": [
    "criterion = nn.CrossEntropyLoss()\n",
    "\n",
    "def accuracy_from_logits(logits, y):\n",
    "    return (logits.argmax(dim=1) == y).float().mean().item()\n",
    "\n",
    "@torch.no_grad()\n",
    "def evaluate(model, loader):\n",
    "    model.eval()\n",
    "    loss_accum, correct, n = 0.0, 0, 0\n",
    "    for x, y in loader:\n",
    "        x, y = x.to(device), y.to(device)\n",
    "        logits = model(x)\n",
    "        loss = criterion(logits, y)\n",
    "        b = y.size(0)\n",
    "        loss_accum += loss.item() * b\n",
    "        correct += (logits.argmax(1) == y).sum().item()\n",
    "        n += b\n",
    "    return loss_accum/n, correct/n\n",
    "\n",
    "def train(model, train_loader, test_loader, optimizer, epochs=5, save_prefix=None):\n",
    "    best = {\"epoch\": -1, \"val_acc\": 0.0}\n",
    "    for ep in range(1, epochs+1):\n",
    "        model.train()\n",
    "        for x, y in train_loader:\n",
    "            x, y = x.to(device), y.to(device)\n",
    "            optimizer.zero_grad()\n",
    "            loss = criterion(model(x), y)\n",
    "            loss.backward()\n",
    "            optimizer.step()\n",
    "\n",
    "        val_loss, val_acc = evaluate(model, test_loader)\n",
    "        print(f\"Epoch {ep}: val_loss={val_loss:.4f} val_acc={val_acc:.4f}\")\n",
    "\n",
    "        if val_acc > best[\"val_acc\"]:\n",
    "            best = {\"epoch\": ep, \"val_acc\": float(val_acc)}\n",
    "            if save_prefix is not None:\n",
    "                torch.save({\n",
    "                    \"epoch\": ep,\n",
    "                    \"val_acc\": float(val_acc),\n",
    "                    \"model_state_dict\": model.state_dict(),\n",
    "                    \"optimizer_state_dict\": optimizer.state_dict(),\n",
    "                }, f\"{save_prefix}.pth\")\n",
    "    print(\"Best:\", best)\n",
    "    return best\n"
   ]
  },
  {
   "cell_type": "markdown",
   "id": "2c3d3696",
   "metadata": {},
   "source": [
    "Se va a guardar el mejor modelo en un pth para usarlo despues"
   ]
  },
  {
   "cell_type": "code",
   "execution_count": null,
   "id": "c56759f5",
   "metadata": {},
   "outputs": [
    {
     "name": "stdout",
     "output_type": "stream",
     "text": [
      "Epoch 1: val_loss=0.0377 val_acc=0.9874\n",
      "Epoch 2: val_loss=0.0287 val_acc=0.9904\n"
     ]
    }
   ],
   "source": [
    "model = MNIST_CNN().to(device)\n",
    "optimizer = optim.Adam(model.parameters(), lr=1e-3)\n",
    "best_base = train(model, train_loader, test_loader, optimizer, epochs=5, save_prefix=\"best_cnn_base_state\")\n"
   ]
  },
  {
   "cell_type": "markdown",
   "id": "7e83b8b2",
   "metadata": {},
   "source": [
    "Bucle de configs guarda el mejor"
   ]
  },
  {
   "cell_type": "code",
   "execution_count": null,
   "id": "ded1acb3",
   "metadata": {},
   "outputs": [
    {
     "name": "stdout",
     "output_type": "stream",
     "text": [
      "== Config: {'fc_hidden': 128, 'c1': 16, 'c2': 32, 'c3': 64, 'opt': 'Adam', 'lr': 0.001} params: 426122\n",
      "Epoch 1: val_loss=0.0487 val_acc=0.9839\n",
      "Epoch 2: val_loss=0.0389 val_acc=0.9883\n",
      "Epoch 3: val_loss=0.0313 val_acc=0.9898\n",
      "Epoch 4: val_loss=0.0256 val_acc=0.9911\n",
      "Epoch 5: val_loss=0.0241 val_acc=0.9926\n",
      "Best: {'epoch': 5, 'val_acc': 0.9926}\n",
      "== Config: {'fc_hidden': 256, 'c1': 32, 'c2': 64, 'c3': 128, 'opt': 'Adam', 'lr': 0.001} params: 1701130\n",
      "Epoch 1: val_loss=0.0457 val_acc=0.9846\n",
      "Epoch 2: val_loss=0.0295 val_acc=0.9900\n",
      "Epoch 3: val_loss=0.0355 val_acc=0.9875\n",
      "Epoch 4: val_loss=0.0269 val_acc=0.9909\n",
      "Epoch 5: val_loss=0.0298 val_acc=0.9902\n",
      "Best: {'epoch': 4, 'val_acc': 0.9909}\n",
      "== Config: {'fc_hidden': 256, 'c1': 32, 'c2': 64, 'c3': 128, 'opt': 'SGD', 'lr': 0.01} params: 1701130\n",
      "Epoch 1: val_loss=0.0648 val_acc=0.9796\n",
      "Epoch 2: val_loss=0.0373 val_acc=0.9886\n",
      "Epoch 3: val_loss=0.0295 val_acc=0.9890\n",
      "Epoch 4: val_loss=0.0290 val_acc=0.9900\n",
      "Epoch 5: val_loss=0.0305 val_acc=0.9902\n",
      "Best: {'epoch': 5, 'val_acc': 0.9902}\n",
      "== Config: {'fc_hidden': 512, 'c1': 32, 'c2': 64, 'c3': 128, 'opt': 'SGD', 'lr': 0.01} params: 3309578\n",
      "Epoch 1: val_loss=0.0582 val_acc=0.9811\n",
      "Epoch 2: val_loss=0.0444 val_acc=0.9850\n",
      "Epoch 3: val_loss=0.0328 val_acc=0.9888\n",
      "Epoch 4: val_loss=0.0301 val_acc=0.9906\n",
      "Epoch 5: val_loss=0.0377 val_acc=0.9876\n",
      "Best: {'epoch': 4, 'val_acc': 0.9906}\n",
      "\n",
      "Resumen:\n",
      "{'fc_hidden': 128, 'c1': 16, 'c2': 32, 'c3': 64, 'opt': 'Adam', 'lr': 0.001, 'params': 426122, 'val_acc': 0.9926}\n",
      "{'fc_hidden': 256, 'c1': 32, 'c2': 64, 'c3': 128, 'opt': 'Adam', 'lr': 0.001, 'params': 1701130, 'val_acc': 0.9902}\n",
      "{'fc_hidden': 256, 'c1': 32, 'c2': 64, 'c3': 128, 'opt': 'SGD', 'lr': 0.01, 'params': 1701130, 'val_acc': 0.9902}\n",
      "{'fc_hidden': 512, 'c1': 32, 'c2': 64, 'c3': 128, 'opt': 'SGD', 'lr': 0.01, 'params': 3309578, 'val_acc': 0.9876}\n"
     ]
    }
   ],
   "source": [
    "def count_params(m): return sum(p.numel() for p in m.parameters())\n",
    "\n",
    "configs = [\n",
    "    {\"fc_hidden\": 128, \"c1\": 16, \"c2\": 32, \"c3\": 64,  \"opt\": \"Adam\", \"lr\": 1e-3},\n",
    "    {\"fc_hidden\": 256, \"c1\": 32, \"c2\": 64, \"c3\": 128, \"opt\": \"Adam\", \"lr\": 1e-3},\n",
    "    {\"fc_hidden\": 256, \"c1\": 32, \"c2\": 64, \"c3\": 128, \"opt\": \"SGD\",  \"lr\": 0.01},\n",
    "    {\"fc_hidden\": 512, \"c1\": 32, \"c2\": 64, \"c3\": 128, \"opt\": \"SGD\",  \"lr\": 0.01},\n",
    "]\n",
    "\n",
    "results = []\n",
    "best_overall = {\"acc\": 0.0, \"cfg\": None}\n",
    "\n",
    "for cfg in configs:\n",
    "    m = MNIST_CNN(fc_hidden=cfg[\"fc_hidden\"], c1=cfg[\"c1\"], c2=cfg[\"c2\"], c3=cfg[\"c3\"]).to(device)\n",
    "    opt = (optim.Adam if cfg[\"opt\"]==\"Adam\" else optim.SGD)(m.parameters(), lr=cfg[\"lr\"], **({\"weight_decay\":5e-4} if cfg[\"opt\"]==\"Adam\" else {\"momentum\":0.9,\"weight_decay\":5e-4}))\n",
    "    print(\"== Config:\", cfg, \"params:\", count_params(m))\n",
    "    _ = train(m, train_loader, test_loader, opt, epochs=5, save_prefix=\"best_cnn_search_state\")  # se sobrescribe si mejora\n",
    "    val_loss, val_acc = evaluate(m, test_loader)\n",
    "    results.append({**cfg, \"params\": count_params(m), \"val_acc\": float(val_acc)})\n",
    "    if val_acc > best_overall[\"acc\"]:\n",
    "        best_overall = {\"acc\": float(val_acc), \"cfg\": cfg}\n",
    "\n",
    "print(\"\\nResumen:\")\n",
    "for r in results:\n",
    "    print(r)\n",
    "print(\"\\nMejor config:\", best_overall)\n"
   ]
  },
  {
   "cell_type": "markdown",
   "id": "0754f4a4",
   "metadata": {},
   "source": [
    "Cargar baseline MLP del lab anterior"
   ]
  },
  {
   "cell_type": "code",
   "execution_count": null,
   "id": "d29550f9",
   "metadata": {},
   "outputs": [],
   "source": [
    "# Clase MLP compatible con el entrenamiento anterior\n",
    "class MLP(nn.Module):\n",
    "    def __init__(self, hidden_layers=[256,128], activation=nn.ReLU):\n",
    "        super().__init__()\n",
    "        layers = [nn.Flatten(), nn.Linear(28*28, hidden_layers[0]), activation()]\n",
    "        for i in range(len(hidden_layers)-1):\n",
    "            layers += [nn.Linear(hidden_layers[i], hidden_layers[i+1]), activation()]\n",
    "        layers += [nn.Linear(hidden_layers[-1], 10)]\n",
    "        self.net = nn.Sequential(*layers)\n",
    "    def forward(self, x): return self.net(x)\n",
    "\n",
    "#  mejor MLP :\n",
    "best_params_mlp = {\"hidden_layers\":[512,256,128], \"activation\": nn.ReLU}\n",
    "\n",
    "baseline = MLP(**best_params_mlp).to(device)\n",
    "baseline.load_state_dict(torch.load(\"best_random_model.pth\", map_location=device))\n",
    "baseline.eval()\n",
    "\n",
    "# (opcional) eval rápida\n",
    "_, acc_base = evaluate(baseline, test_loader)\n",
    "print(f\"Baseline MLP acc: {acc_base:.4f}\")\n"
   ]
  },
  {
   "cell_type": "code",
   "execution_count": null,
   "id": "8a9291c1",
   "metadata": {},
   "outputs": [],
   "source": [
    "import matplotlib.pyplot as plt\n",
    "from sklearn.metrics import confusion_matrix\n",
    "\n",
    "@torch.no_grad()\n",
    "def preds_and_labels(model, loader, device='cpu'):\n",
    "    model.eval()\n",
    "    all_p, all_y = [], []\n",
    "    for x, y in loader:\n",
    "        x = x.to(device)\n",
    "        p = model(x).argmax(1).cpu().numpy()\n",
    "        all_p.append(p); all_y.append(y.numpy())\n",
    "    return np.concatenate(all_p), np.concatenate(all_y)\n",
    "\n",
    "def plot_cm(cm, title, normalize=False):\n",
    "    if normalize:\n",
    "        cm = cm.astype(np.float64)\n",
    "        cm = cm / cm.sum(axis=1, keepdims=True)\n",
    "    plt.figure(figsize=(5,5))\n",
    "    plt.imshow(cm, interpolation='nearest')\n",
    "    plt.title(title)\n",
    "    plt.xlabel(\"Predicho\")\n",
    "    plt.ylabel(\"Real\")\n",
    "    plt.colorbar()\n",
    "    ticks = np.arange(cm.shape[0])\n",
    "    plt.xticks(ticks, ticks)\n",
    "    plt.yticks(ticks, ticks)\n",
    "    thresh = cm.max()/2.0\n",
    "    for i in range(cm.shape[0]):\n",
    "        for j in range(cm.shape[1]):\n",
    "            val = f\"{cm[i,j]:.2f}\" if normalize else int(cm[i,j])\n",
    "            plt.text(j, i, val, ha=\"center\", va=\"center\",\n",
    "                     color=\"white\" if cm[i,j] > thresh else \"black\")\n",
    "    plt.tight_layout()\n",
    "    plt.show()\n",
    "\n",
    "def n_params(m): return sum(p.numel() for p in m.parameters())\n",
    "\n",
    "# Cargar mejor CNN guardada del paso 4 (si quieres evaluar exactamente la mejor de la búsqueda)\n",
    "ckpt = torch.load(\"best_cnn_search_state.pth\", map_location=device)\n",
    "best_cfg = {\"fc_hidden\":256,\"c1\":32,\"c2\":64,\"c3\":128}  # <-- si guardaste sin metadatos, usa la config que tú viste mejor; si fue la pequeña:\n",
    "best_cfg = {\"fc_hidden\":128,\"c1\":16,\"c2\":32,\"c3\":64}   # (ajusta a la mejor que viste en tus prints)\n",
    "\n",
    "cnn_best = MNIST_CNN(**best_cfg).to(device)\n",
    "cnn_best.load_state_dict(ckpt[\"model_state_dict\"])\n",
    "cnn_best.eval()\n",
    "\n",
    "# CNN\n",
    "p_cnn, y_cnn = preds_and_labels(cnn_best, test_loader, device=device)\n",
    "cm_cnn = confusion_matrix(y_cnn, p_cnn)\n",
    "plot_cm(cm_cnn, \"Matriz de Confusión – CNN\", normalize=False)\n",
    "plot_cm(cm_cnn, \"Matriz de Confusión – CNN (normalizada)\", normalize=True)\n",
    "\n",
    "# Baseline\n",
    "p_mlp, y_mlp = preds_and_labels(baseline, test_loader, device=device)\n",
    "cm_mlp = confusion_matrix(y_mlp, p_mlp)\n",
    "plot_cm(cm_mlp, \"Matriz de Confusión – Baseline\", normalize=False)\n",
    "plot_cm(cm_mlp, \"Matriz de Confusión – Baseline (normalizada)\", normalize=True)\n",
    "\n",
    "# Métricas y eficiencia\n",
    "acc_cnn = np.trace(cm_cnn)/cm_cnn.sum()\n",
    "acc_mlp = np.trace(cm_mlp)/cm_mlp.sum()\n",
    "print(f\"Acc CNN:  {acc_cnn:.4f}  | params: {n_params(cnn_best):,}\")\n",
    "print(f\"Acc MLP:  {acc_mlp:.4f}  | params: {n_params(baseline):,}\")\n",
    "print(f\"Acc/MP (CNN): {acc_cnn/(n_params(cnn_best)/1e6):.3f}\")\n",
    "print(f\"Acc/MP (MLP): {acc_mlp/(n_params(baseline)/1e6):.3f}\")\n"
   ]
  }
 ],
 "metadata": {
  "kernelspec": {
   "display_name": "Python 3",
   "language": "python",
   "name": "python3"
  },
  "language_info": {
   "codemirror_mode": {
    "name": "ipython",
    "version": 3
   },
   "file_extension": ".py",
   "mimetype": "text/x-python",
   "name": "python",
   "nbconvert_exporter": "python",
   "pygments_lexer": "ipython3",
   "version": "3.10.0"
  }
 },
 "nbformat": 4,
 "nbformat_minor": 5
}
