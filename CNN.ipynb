{
 "cells": [
  {
   "cell_type": "markdown",
   "id": "7e669404",
   "metadata": {},
   "source": [
    "#### Lab4"
   ]
  },
  {
   "cell_type": "code",
   "execution_count": 1,
   "id": "30d97073",
   "metadata": {},
   "outputs": [
    {
     "name": "stderr",
     "output_type": "stream",
     "text": [
      "100%|██████████| 9.91M/9.91M [00:00<00:00, 10.4MB/s]\n",
      "100%|██████████| 28.9k/28.9k [00:00<00:00, 531kB/s]\n",
      "100%|██████████| 1.65M/1.65M [00:00<00:00, 4.35MB/s]\n",
      "100%|██████████| 4.54k/4.54k [00:00<?, ?B/s]\n"
     ]
    }
   ],
   "source": [
    "import torch, torch.nn as nn, torch.optim as optim\n",
    "from torch.utils.data import DataLoader\n",
    "from torchvision import datasets, transforms\n",
    "\n",
    "device = torch.device('cuda' if torch.cuda.is_available() else 'cpu')\n",
    "\n",
    "transform = transforms.Compose([\n",
    "    transforms.ToTensor(),\n",
    "    transforms.Normalize((0.1307,), (0.3081,))\n",
    "])\n",
    "\n",
    "train_ds = datasets.MNIST(root='./data', train=True,  download=True, transform=transform)\n",
    "test_ds  = datasets.MNIST(root='./data', train=False, download=True, transform=transform)\n",
    "\n",
    "train_loader = DataLoader(train_ds, batch_size=128, shuffle=True, num_workers=2, pin_memory=True)\n",
    "test_loader  = DataLoader(test_ds,  batch_size=256, shuffle=False, num_workers=2, pin_memory=True)"
   ]
  },
  {
   "cell_type": "code",
   "execution_count": 2,
   "id": "277c2ee8",
   "metadata": {},
   "outputs": [],
   "source": [
    "# 2.2 Modelo base: 3 conv + 2 maxpool + FC\n",
    "class MNIST_CNN(nn.Module):\n",
    "    def __init__(self, fc_hidden=256, c1=32, c2=64, c3=128, dropout=0.25):\n",
    "        super().__init__()\n",
    "        self.features = nn.Sequential(\n",
    "            nn.Conv2d(1,  c1, kernel_size=3, padding=1), nn.ReLU(inplace=True),\n",
    "            nn.Conv2d(c1, c2, kernel_size=3, padding=1), nn.ReLU(inplace=True),\n",
    "            nn.MaxPool2d(2),  # 28->14\n",
    "            nn.Dropout(dropout),\n",
    "\n",
    "            nn.Conv2d(c2, c3, kernel_size=3, padding=1), nn.ReLU(inplace=True),\n",
    "            nn.MaxPool2d(2),  # 14->7\n",
    "        )\n",
    "        self.classifier = nn.Sequential(\n",
    "            nn.Flatten(),\n",
    "            nn.Linear(c3*7*7, fc_hidden), nn.ReLU(inplace=True),\n",
    "            nn.Dropout(dropout),\n",
    "            nn.Linear(fc_hidden, 10)\n",
    "        )\n",
    "\n",
    "    def forward(self, x):\n",
    "        x = self.features(x)\n",
    "        x = self.classifier(x)\n",
    "        return x\n",
    "\n",
    "model = MNIST_CNN().to(device)\n",
    "criterion = nn.CrossEntropyLoss()\n",
    "optimizer = optim.Adam(model.parameters(), lr=1e-3)  # puedes alternar con SGD\n"
   ]
  },
  {
   "cell_type": "code",
   "execution_count": 3,
   "id": "923a3613",
   "metadata": {},
   "outputs": [
    {
     "name": "stderr",
     "output_type": "stream",
     "text": [
      "c:\\Users\\diego\\AppData\\Local\\Programs\\Python\\Python310\\lib\\site-packages\\torch\\utils\\data\\dataloader.py:665: UserWarning: 'pin_memory' argument is set as true but no accelerator is found, then device pinned memory won't be used.\n",
      "  warnings.warn(warn_msg)\n"
     ]
    },
    {
     "name": "stdout",
     "output_type": "stream",
     "text": [
      "Epoch 1: val_loss=0.0393 val_acc=0.9859\n",
      "Epoch 2: val_loss=0.0327 val_acc=0.9896\n",
      "Epoch 3: val_loss=0.0265 val_acc=0.9911\n",
      "Epoch 4: val_loss=0.0244 val_acc=0.9908\n",
      "Epoch 5: val_loss=0.0218 val_acc=0.9925\n",
      "Best: {'epoch': 5, 'val_acc': 0.9925}\n"
     ]
    }
   ],
   "source": [
    "# 2.3 Entrenamiento y evaluación\n",
    "def accuracy(logits, y):\n",
    "    return (logits.argmax(dim=1) == y).float().mean().item()\n",
    "\n",
    "@torch.no_grad()\n",
    "def evaluate(model, loader):\n",
    "    model.eval()\n",
    "    loss_accum, acc_accum, n = 0.0, 0.0, 0\n",
    "    for x, y in loader:\n",
    "        x, y = x.to(device), y.to(device)\n",
    "        logits = model(x)\n",
    "        loss = criterion(logits, y)\n",
    "        b = y.size(0)\n",
    "        loss_accum += loss.item()*b\n",
    "        acc_accum  += (logits.argmax(1)==y).float().sum().item()\n",
    "        n += b\n",
    "    return loss_accum/n, acc_accum/n\n",
    "\n",
    "def train(model, train_loader, test_loader, optimizer, epochs=5):\n",
    "    best = {\"epoch\": -1, \"val_acc\": 0.0}\n",
    "    for ep in range(1, epochs+1):\n",
    "        model.train()\n",
    "        for x, y in train_loader:\n",
    "            x, y = x.to(device), y.to(device)\n",
    "            optimizer.zero_grad()\n",
    "            loss = criterion(model(x), y)\n",
    "            loss.backward()\n",
    "            optimizer.step()\n",
    "        val_loss, val_acc = evaluate(model, test_loader)\n",
    "        print(f\"Epoch {ep}: val_loss={val_loss:.4f} val_acc={val_acc:.4f}\")\n",
    "        if val_acc > best[\"val_acc\"]:\n",
    "            best = {\"epoch\": ep, \"val_acc\": val_acc}\n",
    "    print(\"Best:\", best)\n",
    "    return best\n",
    "\n",
    "best_base = train(model, train_loader, test_loader, optimizer, epochs=5)\n"
   ]
  },
  {
   "cell_type": "code",
   "execution_count": 4,
   "id": "ded1acb3",
   "metadata": {},
   "outputs": [
    {
     "name": "stdout",
     "output_type": "stream",
     "text": [
      "== Config: {'fc_hidden': 128, 'c1': 16, 'c2': 32, 'c3': 64, 'opt': 'Adam', 'lr': 0.001} params: 426122\n",
      "Epoch 1: val_loss=0.0487 val_acc=0.9839\n",
      "Epoch 2: val_loss=0.0389 val_acc=0.9883\n",
      "Epoch 3: val_loss=0.0313 val_acc=0.9898\n",
      "Epoch 4: val_loss=0.0256 val_acc=0.9911\n",
      "Epoch 5: val_loss=0.0241 val_acc=0.9926\n",
      "Best: {'epoch': 5, 'val_acc': 0.9926}\n",
      "== Config: {'fc_hidden': 256, 'c1': 32, 'c2': 64, 'c3': 128, 'opt': 'Adam', 'lr': 0.001} params: 1701130\n",
      "Epoch 1: val_loss=0.0457 val_acc=0.9846\n",
      "Epoch 2: val_loss=0.0295 val_acc=0.9900\n",
      "Epoch 3: val_loss=0.0355 val_acc=0.9875\n",
      "Epoch 4: val_loss=0.0269 val_acc=0.9909\n",
      "Epoch 5: val_loss=0.0298 val_acc=0.9902\n",
      "Best: {'epoch': 4, 'val_acc': 0.9909}\n",
      "== Config: {'fc_hidden': 256, 'c1': 32, 'c2': 64, 'c3': 128, 'opt': 'SGD', 'lr': 0.01} params: 1701130\n",
      "Epoch 1: val_loss=0.0648 val_acc=0.9796\n",
      "Epoch 2: val_loss=0.0373 val_acc=0.9886\n",
      "Epoch 3: val_loss=0.0295 val_acc=0.9890\n",
      "Epoch 4: val_loss=0.0290 val_acc=0.9900\n",
      "Epoch 5: val_loss=0.0305 val_acc=0.9902\n",
      "Best: {'epoch': 5, 'val_acc': 0.9902}\n",
      "== Config: {'fc_hidden': 512, 'c1': 32, 'c2': 64, 'c3': 128, 'opt': 'SGD', 'lr': 0.01} params: 3309578\n",
      "Epoch 1: val_loss=0.0582 val_acc=0.9811\n",
      "Epoch 2: val_loss=0.0444 val_acc=0.9850\n",
      "Epoch 3: val_loss=0.0328 val_acc=0.9888\n",
      "Epoch 4: val_loss=0.0301 val_acc=0.9906\n",
      "Epoch 5: val_loss=0.0377 val_acc=0.9876\n",
      "Best: {'epoch': 4, 'val_acc': 0.9906}\n",
      "\n",
      "Resumen:\n",
      "{'fc_hidden': 128, 'c1': 16, 'c2': 32, 'c3': 64, 'opt': 'Adam', 'lr': 0.001, 'params': 426122, 'val_acc': 0.9926}\n",
      "{'fc_hidden': 256, 'c1': 32, 'c2': 64, 'c3': 128, 'opt': 'Adam', 'lr': 0.001, 'params': 1701130, 'val_acc': 0.9902}\n",
      "{'fc_hidden': 256, 'c1': 32, 'c2': 64, 'c3': 128, 'opt': 'SGD', 'lr': 0.01, 'params': 1701130, 'val_acc': 0.9902}\n",
      "{'fc_hidden': 512, 'c1': 32, 'c2': 64, 'c3': 128, 'opt': 'SGD', 'lr': 0.01, 'params': 3309578, 'val_acc': 0.9876}\n"
     ]
    }
   ],
   "source": [
    "from copy import deepcopy\n",
    "\n",
    "def count_params(m): return sum(p.numel() for p in m.parameters())\n",
    "\n",
    "configs = [\n",
    "    {\"fc_hidden\": 128, \"c1\": 16, \"c2\": 32, \"c3\": 64,  \"opt\": \"Adam\", \"lr\": 1e-3},\n",
    "    {\"fc_hidden\": 256, \"c1\": 32, \"c2\": 64, \"c3\": 128, \"opt\": \"Adam\", \"lr\": 1e-3},\n",
    "    {\"fc_hidden\": 256, \"c1\": 32, \"c2\": 64, \"c3\": 128, \"opt\": \"SGD\",  \"lr\": 0.01},\n",
    "    {\"fc_hidden\": 512, \"c1\": 32, \"c2\": 64, \"c3\": 128, \"opt\": \"SGD\",  \"lr\": 0.01},\n",
    "]\n",
    "\n",
    "results = []\n",
    "for cfg in configs:\n",
    "    m = MNIST_CNN(fc_hidden=cfg[\"fc_hidden\"], c1=cfg[\"c1\"], c2=cfg[\"c2\"], c3=cfg[\"c3\"]).to(device)\n",
    "    if cfg[\"opt\"]==\"Adam\":\n",
    "        opt = optim.Adam(m.parameters(), lr=cfg[\"lr\"], weight_decay=5e-4)\n",
    "    else:\n",
    "        opt = optim.SGD(m.parameters(), lr=cfg[\"lr\"], momentum=0.9, weight_decay=5e-4)\n",
    "    print(\"== Config:\", cfg, \"params:\", count_params(m))\n",
    "    best = train(m, train_loader, test_loader, opt, epochs=5)\n",
    "    val_loss, val_acc = evaluate(m, test_loader)\n",
    "    results.append({**cfg, \"params\": count_params(m), \"val_acc\": val_acc})\n",
    "    \n",
    "print(\"\\nResumen:\")\n",
    "for r in results: print(r)\n"
   ]
  }
 ],
 "metadata": {
  "kernelspec": {
   "display_name": "Python 3",
   "language": "python",
   "name": "python3"
  },
  "language_info": {
   "codemirror_mode": {
    "name": "ipython",
    "version": 3
   },
   "file_extension": ".py",
   "mimetype": "text/x-python",
   "name": "python",
   "nbconvert_exporter": "python",
   "pygments_lexer": "ipython3",
   "version": "3.10.0"
  }
 },
 "nbformat": 4,
 "nbformat_minor": 5
}
